{
 "cells": [
  {
   "cell_type": "code",
   "execution_count": null,
   "id": "ce07f14c",
   "metadata": {
    "vscode": {
     "languageId": "plaintext"
    }
   },
   "outputs": [],
   "source": [
    "import shap, joblib, numpy as np\n",
    "lgb_single = clf.estimators_[0]        # pick first label\n",
    "explainer = shap.TreeExplainer(lgb_single)\n",
    "shap_values = explainer.shap_values(X_test, check_additivity=False)[1]\n",
    "shap.summary_plot(shap_values, X_test, feature_names=[f\"fp_{i}\" for i in range(1024)])\n",
    "export LDFLAGS=\"-L/opt/homebrew/opt/libomp/lib\"\n",
    "export CPPFLAGS=\"-I/opt/homebrew/opt/libomp/include\"\n",
    "pip uninstall lightgbm -y\n",
    "pip install lightgbm"
   ]
  }
 ],
 "metadata": {
  "language_info": {
   "name": "python"
  }
 },
 "nbformat": 4,
 "nbformat_minor": 5
}
